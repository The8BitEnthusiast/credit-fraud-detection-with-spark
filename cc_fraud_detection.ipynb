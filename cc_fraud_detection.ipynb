{
 "cells": [
  {
   "cell_type": "markdown",
   "metadata": {
    "application/vnd.databricks.v1+cell": {
     "cellMetadata": {},
     "inputWidgets": {},
     "nuid": "53d2698b-7d95-497f-8d79-87170d247990",
     "showTitle": false,
     "title": ""
    }
   },
   "source": [
    "# Real-Time Credit Card Fraud Detection"
   ]
  },
  {
   "cell_type": "markdown",
   "metadata": {
    "application/vnd.databricks.v1+cell": {
     "cellMetadata": {},
     "inputWidgets": {},
     "nuid": "c4fa66b5-0bd7-42b2-8002-0deffa9b601f",
     "showTitle": false,
     "title": ""
    }
   },
   "source": [
    "## Loading the File and Performing Basic Data Type Conversions"
   ]
  },
  {
   "cell_type": "code",
   "execution_count": 0,
   "metadata": {
    "ExecuteTime": {
     "end_time": "2023-11-15T18:54:11.393751Z",
     "start_time": "2023-11-15T18:54:06.381027Z"
    },
    "application/vnd.databricks.v1+cell": {
     "cellMetadata": {},
     "inputWidgets": {},
     "nuid": "5ac2b174-0651-4698-a437-545dda582df8",
     "showTitle": false,
     "title": ""
    },
    "scrolled": false
   },
   "outputs": [],
   "source": [
    "# import modules from pyspark\n",
    "import pyspark\n",
    "from pyspark.sql import SparkSession\n",
    "from pyspark.sql.types import *\n",
    "from pyspark.sql.functions import *\n",
    "from pyspark.sql import SQLContext\n",
    "import pandas as pd\n",
    "\n",
    "# uncomment the following line if running pyspark from the notebook itself\n",
    "# spark = SparkSession.builder.enableHiveSupport().getOrCreate()\n",
    "spark.sparkContext.setLogLevel(\"ERROR\")\n",
    "sqlContext = SQLContext(spark)\n",
    "\n",
    "# Read The data\n",
    "cc_raw = (spark.read\n",
    "  .option(\"header\", \"true\")\n",
    "  .csv(\"fraudTrain.csv\"))"
   ]
  },
  {
   "cell_type": "code",
   "execution_count": 0,
   "metadata": {
    "application/vnd.databricks.v1+cell": {
     "cellMetadata": {
      "byteLimit": 2048000,
      "rowLimit": 10000
     },
     "inputWidgets": {},
     "nuid": "662b3a2b-365c-4f39-8764-5d80d45093a2",
     "showTitle": false,
     "title": ""
    }
   },
   "outputs": [],
   "source": [
    "# Read The data\n",
    "cc_raw = (spark.read\n",
    "  .option(\"header\", \"true\")\n",
    "  .csv(\"s3://group9-ml-project/fraudTrain.csv\"))"
   ]
  },
  {
   "cell_type": "code",
   "execution_count": 0,
   "metadata": {
    "ExecuteTime": {
     "end_time": "2023-11-15T18:54:14.590933Z",
     "start_time": "2023-11-15T18:54:14.552974Z"
    },
    "application/vnd.databricks.v1+cell": {
     "cellMetadata": {
      "byteLimit": 2048000,
      "rowLimit": 10000
     },
     "inputWidgets": {},
     "nuid": "39dcadd2-22c6-422b-80b7-efb47ee63530",
     "showTitle": false,
     "title": ""
    },
    "scrolled": true
   },
   "outputs": [],
   "source": [
    "# Register spark SQL tables\n",
    "\n",
    "cc_raw.createOrReplaceTempView(\"cc_raw\")"
   ]
  },
  {
   "cell_type": "code",
   "execution_count": 0,
   "metadata": {
    "ExecuteTime": {
     "end_time": "2023-11-15T18:54:39.470599Z",
     "start_time": "2023-11-15T18:54:18.463395Z"
    },
    "application/vnd.databricks.v1+cell": {
     "cellMetadata": {
      "byteLimit": 2048000,
      "rowLimit": 10000
     },
     "inputWidgets": {},
     "nuid": "fd519a3e-30d3-4409-9fe2-dadf0bf338a8",
     "showTitle": false,
     "title": ""
    }
   },
   "outputs": [],
   "source": [
    "cc_raw.describe().toPandas()"
   ]
  },
  {
   "cell_type": "code",
   "execution_count": 0,
   "metadata": {
    "ExecuteTime": {
     "end_time": "2023-11-15T18:58:07.826517Z",
     "start_time": "2023-11-15T18:58:03.944148Z"
    },
    "application/vnd.databricks.v1+cell": {
     "cellMetadata": {},
     "inputWidgets": {},
     "nuid": "38621172-9e29-4672-a5c2-9f2bc637a66a",
     "showTitle": false,
     "title": ""
    }
   },
   "outputs": [],
   "source": [
    "spark.sql(\"DROP TABLE IF EXISTS cc\")"
   ]
  },
  {
   "cell_type": "code",
   "execution_count": 0,
   "metadata": {
    "ExecuteTime": {
     "end_time": "2023-11-15T18:58:17.122206Z",
     "start_time": "2023-11-15T18:58:09.050417Z"
    },
    "application/vnd.databricks.v1+cell": {
     "cellMetadata": {
      "byteLimit": 2048000,
      "rowLimit": 10000
     },
     "inputWidgets": {},
     "nuid": "6ebfd848-0075-4c2e-b883-be85b18a1caf",
     "showTitle": false,
     "title": ""
    }
   },
   "outputs": [],
   "source": [
    "spark.sql(\"\"\" CREATE TABLE IF NOT EXISTS cc AS \n",
    "                SELECT timestamp(trans_date_trans_time) as trans_date_trans_time,\n",
    "                       cc_num, \n",
    "                       merchant, \n",
    "                       category,\n",
    "                       double(amt) as amt,\n",
    "                       first,\n",
    "                       last,\n",
    "                       gender,\n",
    "                       street,\n",
    "                       city,\n",
    "                       state,\n",
    "                       zip,\n",
    "                       double(lat) as lat,\n",
    "                       double(long) as long,\n",
    "                       double(city_pop) as city_pop,\n",
    "                       job,\n",
    "                       date(dob) as dob,\n",
    "                       trans_num,\n",
    "                       unix_time,\n",
    "                       double(merch_lat) as merch_lat,\n",
    "                       double(merch_long) as merch_long,\n",
    "                       int(is_fraud) as is_fraud\n",
    "                  FROM cc_raw\n",
    "          \"\"\")"
   ]
  },
  {
   "cell_type": "code",
   "execution_count": 0,
   "metadata": {
    "ExecuteTime": {
     "end_time": "2023-11-15T18:58:18.703385Z",
     "start_time": "2023-11-15T18:58:18.588620Z"
    },
    "application/vnd.databricks.v1+cell": {
     "cellMetadata": {
      "byteLimit": 2048000,
      "rowLimit": 10000
     },
     "inputWidgets": {},
     "nuid": "36f278df-8481-4941-8d3e-16fd7fe2ea87",
     "showTitle": false,
     "title": ""
    }
   },
   "outputs": [],
   "source": [
    "sqlContext.cacheTable(\"cc\")\n",
    "\n",
    "cc = spark.sql(\"SELECT * FROM cc\")"
   ]
  },
  {
   "cell_type": "markdown",
   "metadata": {
    "application/vnd.databricks.v1+cell": {
     "cellMetadata": {},
     "inputWidgets": {},
     "nuid": "750eac0b-4eb7-48ad-961c-0ef45e6c85ae",
     "showTitle": false,
     "title": ""
    }
   },
   "source": [
    "## Exploratory Data Analysis"
   ]
  },
  {
   "cell_type": "markdown",
   "metadata": {
    "application/vnd.databricks.v1+cell": {
     "cellMetadata": {},
     "inputWidgets": {},
     "nuid": "76b6fbbf-237e-4274-8e14-4ba90030b5ed",
     "showTitle": false,
     "title": ""
    }
   },
   "source": [
    "### A Look at the Data and its Basic Statistics"
   ]
  },
  {
   "cell_type": "code",
   "execution_count": 0,
   "metadata": {
    "ExecuteTime": {
     "end_time": "2023-11-15T18:58:20.606359Z",
     "start_time": "2023-11-15T18:58:20.600302Z"
    },
    "application/vnd.databricks.v1+cell": {
     "cellMetadata": {
      "byteLimit": 2048000,
      "rowLimit": 10000
     },
     "inputWidgets": {},
     "nuid": "dc0c630a-9595-4836-a7f7-b0bf2a2d0cfa",
     "showTitle": false,
     "title": ""
    },
    "scrolled": true
   },
   "outputs": [],
   "source": [
    "cc.columns"
   ]
  },
  {
   "cell_type": "code",
   "execution_count": 0,
   "metadata": {
    "ExecuteTime": {
     "end_time": "2023-11-15T18:58:31.291076Z",
     "start_time": "2023-11-15T18:58:24.486142Z"
    },
    "application/vnd.databricks.v1+cell": {
     "cellMetadata": {
      "byteLimit": 2048000,
      "rowLimit": 10000
     },
     "inputWidgets": {},
     "nuid": "dae7e13a-f45b-4923-96bb-dfb19a7af27b",
     "showTitle": false,
     "title": ""
    },
    "scrolled": true
   },
   "outputs": [],
   "source": [
    "import pandas as pd\n",
    "\n",
    "pd.DataFrame(cc.take(10), columns=cc.columns)"
   ]
  },
  {
   "cell_type": "code",
   "execution_count": 0,
   "metadata": {
    "ExecuteTime": {
     "end_time": "2023-11-15T18:58:32.444351Z",
     "start_time": "2023-11-15T18:58:31.296283Z"
    },
    "application/vnd.databricks.v1+cell": {
     "cellMetadata": {},
     "inputWidgets": {},
     "nuid": "caf09b72-f077-4f6c-9f08-1978f21b42dd",
     "showTitle": false,
     "title": ""
    },
    "scrolled": true
   },
   "outputs": [],
   "source": [
    "# making sure there are no missing values\n",
    "cc.select(*(sum(col(c).isNull().cast(\"int\")).alias(c) for c in cc.columns)).toPandas()"
   ]
  },
  {
   "cell_type": "markdown",
   "metadata": {
    "application/vnd.databricks.v1+cell": {
     "cellMetadata": {},
     "inputWidgets": {},
     "nuid": "84faa957-4245-4c35-b435-6672c292af11",
     "showTitle": false,
     "title": ""
    }
   },
   "source": [
    "### Visualizing the Data Distribution"
   ]
  },
  {
   "cell_type": "code",
   "execution_count": 0,
   "metadata": {
    "ExecuteTime": {
     "end_time": "2023-11-15T18:59:02.649790Z",
     "start_time": "2023-11-15T18:58:35.118930Z"
    },
    "application/vnd.databricks.v1+cell": {
     "cellMetadata": {},
     "inputWidgets": {},
     "nuid": "352d619f-99a1-492c-8b18-9cebef04f7e1",
     "showTitle": false,
     "title": ""
    }
   },
   "outputs": [],
   "source": [
    "import matplotlib.pyplot as plt\n",
    "\n",
    "fig, axs = plt.subplots(4 , 2, figsize=(15, 20))\n",
    "fig.suptitle('CC Fraud Data Distribution')\n",
    "\n",
    "for idx, column in enumerate(['amt', 'city_pop', 'lat', 'long', 'merch_lat', 'merch_long', 'unix_time', 'is_fraud']):\n",
    "    # Show histogram of the column\n",
    "    bins, counts = cc.select(column).rdd.flatMap(lambda x: x).map(float).histogram(20)\n",
    "    axs[idx//2][idx%2].set_title(column)\n",
    "    axs[idx//2][idx%2].hist(bins[:-1], bins=bins, weights=counts)\n",
    "    \n",
    "plt.show()"
   ]
  },
  {
   "cell_type": "code",
   "execution_count": 0,
   "metadata": {
    "ExecuteTime": {
     "end_time": "2023-11-15T18:59:07.618644Z",
     "start_time": "2023-11-15T18:59:07.052600Z"
    },
    "application/vnd.databricks.v1+cell": {
     "cellMetadata": {},
     "inputWidgets": {},
     "nuid": "a728cb02-c2c8-4a85-92dc-0cd5ee9e0964",
     "showTitle": false,
     "title": ""
    },
    "scrolled": false
   },
   "outputs": [],
   "source": [
    "cc.select(\"category\").groupby(\"category\").count().toPandas()"
   ]
  },
  {
   "cell_type": "code",
   "execution_count": 0,
   "metadata": {
    "ExecuteTime": {
     "end_time": "2023-11-15T18:59:08.844594Z",
     "start_time": "2023-11-15T18:59:08.634036Z"
    },
    "application/vnd.databricks.v1+cell": {
     "cellMetadata": {},
     "inputWidgets": {},
     "nuid": "45d4906c-1a4f-4326-a063-ce1939ce9260",
     "showTitle": false,
     "title": ""
    },
    "scrolled": true
   },
   "outputs": [],
   "source": [
    "cc.select(\"gender\").groupby(\"gender\").count().toPandas()"
   ]
  },
  {
   "cell_type": "code",
   "execution_count": 0,
   "metadata": {
    "ExecuteTime": {
     "end_time": "2023-11-15T18:59:11.294251Z",
     "start_time": "2023-11-15T18:59:10.412726Z"
    },
    "application/vnd.databricks.v1+cell": {
     "cellMetadata": {},
     "inputWidgets": {},
     "nuid": "286ca2db-d529-4338-ae66-c34ca4770e59",
     "showTitle": false,
     "title": ""
    },
    "scrolled": false
   },
   "outputs": [],
   "source": [
    "# diamonds.select(\"clarity\").groupby(\"clarity\").count().toPandas()"
   ]
  },
  {
   "cell_type": "markdown",
   "metadata": {
    "application/vnd.databricks.v1+cell": {
     "cellMetadata": {},
     "inputWidgets": {},
     "nuid": "e0fd7996-c3bd-4d19-8ac5-d1dfad4dc8d6",
     "showTitle": false,
     "title": ""
    }
   },
   "source": [
    "### Findings Summary and Strategy for Data Preparation\n",
    "\n",
    "The data appears to be clean with no missing values. However, given that carat and price are heavily right skewed, I will apply a logarithmic transformation to them. The categorical features are of String type. As such, I will first need to encode them to a numeric indices and then one-hot encode the indices."
   ]
  },
  {
   "cell_type": "markdown",
   "metadata": {
    "application/vnd.databricks.v1+cell": {
     "cellMetadata": {},
     "inputWidgets": {},
     "nuid": "97e15c09-36da-402c-8bab-40e996db8e59",
     "showTitle": false,
     "title": ""
    }
   },
   "source": [
    "## Data Preparation\n",
    "\n",
    "### Data Transformation"
   ]
  },
  {
   "cell_type": "code",
   "execution_count": 0,
   "metadata": {
    "ExecuteTime": {
     "end_time": "2023-11-15T18:59:21.044312Z",
     "start_time": "2023-11-15T18:59:18.999942Z"
    },
    "application/vnd.databricks.v1+cell": {
     "cellMetadata": {},
     "inputWidgets": {},
     "nuid": "61929bd3-d3ca-4ead-8355-c7aa8510fff7",
     "showTitle": false,
     "title": ""
    }
   },
   "outputs": [],
   "source": [
    "from pyspark.ml.feature import StringIndexer\n",
    "\n",
    "# convert string categorical features to numeric indices\n",
    "inputs = ['merchant', 'category', 'gender', 'city', 'state', 'job']\n",
    "outputs = ['merchant_idx', 'category_idx', 'gender_idx', 'city_idx', 'state_idx', 'job_idx']\n",
    "stringIndexer = StringIndexer(inputCols=inputs, outputCols=outputs)\n",
    "model = stringIndexer.fit(cc)\n",
    "cc_idx = model.transform(cc)"
   ]
  },
  {
   "cell_type": "code",
   "execution_count": 0,
   "metadata": {
    "ExecuteTime": {
     "end_time": "2023-11-15T18:59:24.603346Z",
     "start_time": "2023-11-15T18:59:24.363829Z"
    },
    "application/vnd.databricks.v1+cell": {
     "cellMetadata": {},
     "inputWidgets": {},
     "nuid": "e78ce147-5fce-4384-bb5a-3dfbf47f3685",
     "showTitle": false,
     "title": ""
    },
    "scrolled": true
   },
   "outputs": [],
   "source": [
    "pd.DataFrame(cc_idx.take(50), columns=cc_idx.columns)"
   ]
  },
  {
   "cell_type": "code",
   "execution_count": 0,
   "metadata": {
    "ExecuteTime": {
     "end_time": "2023-11-15T18:59:29.196146Z",
     "start_time": "2023-11-15T18:59:29.008841Z"
    },
    "application/vnd.databricks.v1+cell": {
     "cellMetadata": {},
     "inputWidgets": {},
     "nuid": "cf9dface-d4aa-48d5-898a-07f84e3267dc",
     "showTitle": false,
     "title": ""
    }
   },
   "outputs": [],
   "source": [
    "cc.count()"
   ]
  },
  {
   "cell_type": "code",
   "execution_count": 0,
   "metadata": {
    "ExecuteTime": {
     "end_time": "2023-11-15T18:59:31.378803Z",
     "start_time": "2023-11-15T18:59:31.192024Z"
    },
    "application/vnd.databricks.v1+cell": {
     "cellMetadata": {},
     "inputWidgets": {},
     "nuid": "b4c330f6-3299-4f01-8be9-e093e31e0201",
     "showTitle": false,
     "title": ""
    }
   },
   "outputs": [],
   "source": [
    "from pyspark.ml.feature import OneHotEncoder\n",
    "\n",
    "# one-hot encode indexed categorical features\n",
    "inputs_1hot = ['merchant_idx', 'category_idx', 'city_idx', 'state_idx', 'job_idx']\n",
    "outputs_1hot = ['merchant_1hot', 'category_1hot', 'city_1hot', 'state_1hot', 'job_1hot']\n",
    "\n",
    "oneHotEncoder = OneHotEncoder(inputCols=inputs_1hot, outputCols=outputs_1hot)\n",
    "model_1hot = oneHotEncoder.fit(cc_idx)\n",
    "cc_1hot = model_1hot.transform(cc_idx)"
   ]
  },
  {
   "cell_type": "code",
   "execution_count": 0,
   "metadata": {
    "ExecuteTime": {
     "end_time": "2023-11-15T18:59:34.140363Z",
     "start_time": "2023-11-15T18:59:32.904283Z"
    },
    "application/vnd.databricks.v1+cell": {
     "cellMetadata": {},
     "inputWidgets": {},
     "nuid": "ca5f1dca-8c16-4e6f-a4c9-e78d5eb82ad2",
     "showTitle": false,
     "title": ""
    },
    "scrolled": true
   },
   "outputs": [],
   "source": [
    "pd.DataFrame(cc_1hot.take(50), columns=cc_1hot.columns)"
   ]
  },
  {
   "cell_type": "code",
   "execution_count": 0,
   "metadata": {
    "ExecuteTime": {
     "end_time": "2023-11-15T18:59:38.391423Z",
     "start_time": "2023-11-15T18:59:38.363531Z"
    },
    "application/vnd.databricks.v1+cell": {
     "cellMetadata": {},
     "inputWidgets": {},
     "nuid": "cedf9dd4-111d-4080-9f75-d77e5adf0e3b",
     "showTitle": false,
     "title": ""
    }
   },
   "outputs": [],
   "source": [
    "# apply logarithmic transformation to carat and price features\n",
    "cc_prepped = cc_1hot.withColumn('amt_log', log(col(\"amt\"))) \\\n",
    "                                .withColumn('city_pop_log', log(col(\"city_pop\")))"
   ]
  },
  {
   "cell_type": "code",
   "execution_count": 0,
   "metadata": {
    "ExecuteTime": {
     "end_time": "2023-11-15T18:59:40.158538Z",
     "start_time": "2023-11-15T18:59:39.221227Z"
    },
    "application/vnd.databricks.v1+cell": {
     "cellMetadata": {},
     "inputWidgets": {},
     "nuid": "78a2f409-b2e9-4098-aba9-b7fa3b42ad84",
     "showTitle": false,
     "title": ""
    },
    "scrolled": true
   },
   "outputs": [],
   "source": [
    "pd.DataFrame(cc_prepped.take(50), columns=cc_prepped.columns)"
   ]
  },
  {
   "cell_type": "markdown",
   "metadata": {
    "application/vnd.databricks.v1+cell": {
     "cellMetadata": {},
     "inputWidgets": {},
     "nuid": "4b494af7-a82d-4b1a-915c-2376e863d710",
     "showTitle": false,
     "title": ""
    }
   },
   "source": [
    "### Review of Revised Distribution for Amt and City_Pop"
   ]
  },
  {
   "cell_type": "code",
   "execution_count": 0,
   "metadata": {
    "ExecuteTime": {
     "end_time": "2023-11-15T18:59:49.721922Z",
     "start_time": "2023-11-15T18:59:43.085369Z"
    },
    "application/vnd.databricks.v1+cell": {
     "cellMetadata": {},
     "inputWidgets": {},
     "nuid": "2a43c145-5542-4540-88d9-bd2665025379",
     "showTitle": false,
     "title": ""
    }
   },
   "outputs": [],
   "source": [
    "# plot revised data distribution\n",
    "fig, axs = plt.subplots(1 , 2, figsize=(15, 5))\n",
    "fig.suptitle('Prepped CC Data Distribution')\n",
    "\n",
    "for idx, column in enumerate(['amt_log', 'city_pop_log']):\n",
    "    # Show histogram of the column\n",
    "    bins, counts = cc_prepped.select(column).rdd.flatMap(lambda x: x).map(float).histogram(20)\n",
    "    axs[idx%2].set_title(column)\n",
    "    axs[idx%2].hist(bins[:-1], bins=bins, weights=counts)\n",
    "    \n",
    "plt.show()"
   ]
  },
  {
   "cell_type": "markdown",
   "metadata": {
    "application/vnd.databricks.v1+cell": {
     "cellMetadata": {},
     "inputWidgets": {},
     "nuid": "554b951f-367b-40b0-bad2-07dfa6bd2870",
     "showTitle": false,
     "title": ""
    }
   },
   "source": [
    "### Feature Extraction and Training/Test DataSet Creation"
   ]
  },
  {
   "cell_type": "code",
   "execution_count": 0,
   "metadata": {
    "ExecuteTime": {
     "end_time": "2023-11-15T18:59:53.358302Z",
     "start_time": "2023-11-15T18:59:53.352598Z"
    },
    "application/vnd.databricks.v1+cell": {
     "cellMetadata": {},
     "inputWidgets": {},
     "nuid": "59553379-6072-4e98-b9ea-42b07e2203f2",
     "showTitle": false,
     "title": ""
    }
   },
   "outputs": [],
   "source": [
    "cc_prepped.columns"
   ]
  },
  {
   "cell_type": "code",
   "execution_count": 0,
   "metadata": {
    "ExecuteTime": {
     "end_time": "2023-11-15T18:59:56.680491Z",
     "start_time": "2023-11-15T18:59:56.610531Z"
    },
    "application/vnd.databricks.v1+cell": {
     "cellMetadata": {},
     "inputWidgets": {},
     "nuid": "5c7f0afc-bb1a-400e-8381-803b5d29655b",
     "showTitle": false,
     "title": ""
    }
   },
   "outputs": [],
   "source": [
    "from pyspark.ml.feature import VectorAssembler\n",
    "\n",
    "# assemble the prepped features into one single vector.\n",
    "featureCols = ['amt_log', 'city_pop_log', 'job_1hot', 'state_1hot', 'category_1hot', 'gender_idx']\n",
    "assembler = (VectorAssembler()\n",
    "  .setInputCols(featureCols)\n",
    "  .setOutputCol(\"features\"))\n",
    "\n",
    "cc_final = assembler.transform(cc_prepped)"
   ]
  },
  {
   "cell_type": "code",
   "execution_count": 0,
   "metadata": {
    "ExecuteTime": {
     "end_time": "2023-11-15T18:59:57.717643Z",
     "start_time": "2023-11-15T18:59:57.714560Z"
    },
    "application/vnd.databricks.v1+cell": {
     "cellMetadata": {},
     "inputWidgets": {},
     "nuid": "ce678845-6dfd-48c4-95f8-b2ca84f04497",
     "showTitle": false,
     "title": ""
    }
   },
   "outputs": [],
   "source": [
    "# diamonds_final.toPandas()"
   ]
  },
  {
   "cell_type": "code",
   "execution_count": 0,
   "metadata": {
    "ExecuteTime": {
     "end_time": "2023-11-15T19:00:09.663481Z",
     "start_time": "2023-11-15T18:59:59.143554Z"
    },
    "application/vnd.databricks.v1+cell": {
     "cellMetadata": {},
     "inputWidgets": {},
     "nuid": "5a296f54-ca99-4cd5-96d1-50b702d00018",
     "showTitle": false,
     "title": ""
    }
   },
   "outputs": [],
   "source": [
    "# setup training and test datasets\n",
    "\n",
    "training, test = cc_final.randomSplit([0.7, 0.3])\n",
    "\n",
    "#  Going to cache the data to make sure things stay snappy!\n",
    "# training.cache()\n",
    "# test.cache()\n",
    "\n",
    "print(training.count()) # Why execute count here??\n",
    "print(test.count())"
   ]
  },
  {
   "cell_type": "code",
   "execution_count": 0,
   "metadata": {
    "ExecuteTime": {
     "end_time": "2023-11-15T20:16:54.846672Z",
     "start_time": "2023-11-15T20:16:50.210523Z"
    },
    "application/vnd.databricks.v1+cell": {
     "cellMetadata": {},
     "inputWidgets": {},
     "nuid": "a823dd7e-a434-461d-b2cb-23af507fca4c",
     "showTitle": false,
     "title": ""
    }
   },
   "outputs": [],
   "source": [
    "test.select(\"is_fraud\").groupby(\"is_fraud\").count().toPandas()"
   ]
  },
  {
   "cell_type": "markdown",
   "metadata": {
    "application/vnd.databricks.v1+cell": {
     "cellMetadata": {},
     "inputWidgets": {},
     "nuid": "ac03ef3e-ea18-4b83-b2f4-d815c04e81ec",
     "showTitle": false,
     "title": ""
    }
   },
   "source": [
    "## ML Training and Prediction - RandomForestClassifier"
   ]
  },
  {
   "cell_type": "code",
   "execution_count": 0,
   "metadata": {
    "ExecuteTime": {
     "end_time": "2023-11-15T19:36:35.187683Z",
     "start_time": "2023-11-15T19:36:10.439863Z"
    },
    "application/vnd.databricks.v1+cell": {
     "cellMetadata": {},
     "inputWidgets": {},
     "nuid": "862b103f-7fa2-4e8f-bb2c-392d684e3cff",
     "showTitle": false,
     "title": ""
    }
   },
   "outputs": [],
   "source": [
    "from pyspark.ml.classification import RandomForestClassifier\n",
    "\n",
    "rf = RandomForestClassifier(numTrees=3, maxDepth=2, labelCol=\"is_fraud\", seed=42,\n",
    "    leafCol=\"leafId\")\n",
    "rf.setFeaturesCol(\"features\")\n",
    "\n",
    "model = rf.fit(training)"
   ]
  },
  {
   "cell_type": "code",
   "execution_count": 0,
   "metadata": {
    "ExecuteTime": {
     "end_time": "2023-11-15T19:37:45.836414Z",
     "start_time": "2023-11-15T19:37:45.760815Z"
    },
    "application/vnd.databricks.v1+cell": {
     "cellMetadata": {},
     "inputWidgets": {},
     "nuid": "35ae490b-dd6a-4a8d-a9c2-1a07021da0c8",
     "showTitle": false,
     "title": ""
    }
   },
   "outputs": [],
   "source": [
    "preds = model.transform(test) "
   ]
  },
  {
   "cell_type": "code",
   "execution_count": 0,
   "metadata": {
    "ExecuteTime": {
     "end_time": "2023-11-15T19:42:12.697940Z",
     "start_time": "2023-11-15T19:42:12.691884Z"
    },
    "application/vnd.databricks.v1+cell": {
     "cellMetadata": {},
     "inputWidgets": {},
     "nuid": "907c4125-c987-4602-ada3-1cf1518c47cf",
     "showTitle": false,
     "title": ""
    }
   },
   "outputs": [],
   "source": [
    "preds.columns"
   ]
  },
  {
   "cell_type": "code",
   "execution_count": 0,
   "metadata": {
    "ExecuteTime": {
     "end_time": "2023-11-15T19:39:59.731216Z",
     "start_time": "2023-11-15T19:39:57.820743Z"
    },
    "application/vnd.databricks.v1+cell": {
     "cellMetadata": {},
     "inputWidgets": {},
     "nuid": "692188e6-9c49-497b-8b56-b04bd83147e7",
     "showTitle": false,
     "title": ""
    }
   },
   "outputs": [],
   "source": [
    "pd.DataFrame(preds.take(50), columns=preds.columns)"
   ]
  },
  {
   "cell_type": "code",
   "execution_count": 0,
   "metadata": {
    "ExecuteTime": {
     "end_time": "2023-11-15T19:44:25.045325Z",
     "start_time": "2023-11-15T19:44:19.726175Z"
    },
    "application/vnd.databricks.v1+cell": {
     "cellMetadata": {},
     "inputWidgets": {},
     "nuid": "20c3bac3-aaeb-40d5-a104-254c44cab3b9",
     "showTitle": false,
     "title": ""
    },
    "scrolled": true
   },
   "outputs": [],
   "source": [
    "from pyspark.ml.evaluation import BinaryClassificationEvaluator\n",
    "\n",
    "# Instantiate the evaluator\n",
    "bce= BinaryClassificationEvaluator(rawPredictionCol= \"rawPrediction\",\n",
    "                                   labelCol=\"is_fraud\", \n",
    "                                   metricName= \"areaUnderROC\")\n",
    "                                   \n",
    "bce.evaluate(preds)"
   ]
  },
  {
   "cell_type": "code",
   "execution_count": 0,
   "metadata": {
    "ExecuteTime": {
     "end_time": "2023-11-15T20:26:50.892046Z",
     "start_time": "2023-11-15T20:26:38.182845Z"
    },
    "application/vnd.databricks.v1+cell": {
     "cellMetadata": {},
     "inputWidgets": {},
     "nuid": "c331dd2d-7945-4a22-98f0-f6569566f8e1",
     "showTitle": false,
     "title": ""
    },
    "scrolled": true
   },
   "outputs": [],
   "source": [
    "from pyspark.mllib.evaluation import MulticlassMetrics\n",
    "\n",
    "preds_float = preds \\\n",
    "    .select(\"prediction\", \"is_fraud\") \\\n",
    "    .withColumn(\"is_fraud\", col(\"is_fraud\").cast(DoubleType())) \\\n",
    "    .orderBy(\"prediction\")\n",
    "\n",
    "preds_float.take(50)\n",
    "\n",
    "cm = MulticlassMetrics(preds_float.rdd.map(tuple))\n",
    "\n",
    "# print(cm.confusionMatrix().toArray())\n",
    "\n",
    "#show the confusion matrix as a pandas df for clearer presentation\n",
    "pd.DataFrame(cm.confusionMatrix().toArray(),\n",
    "             columns= [\"true positive\", \"true negative\"],\n",
    "             index= [\"predicted positive\", \"predicted negative\"])"
   ]
  },
  {
   "cell_type": "code",
   "execution_count": 0,
   "metadata": {
    "ExecuteTime": {
     "end_time": "2023-11-15T20:20:58.796738Z",
     "start_time": "2023-11-15T20:20:54.245810Z"
    },
    "application/vnd.databricks.v1+cell": {
     "cellMetadata": {},
     "inputWidgets": {},
     "nuid": "7b07f2a2-56cf-4447-ae57-a71b8d005321",
     "showTitle": false,
     "title": ""
    },
    "scrolled": true
   },
   "outputs": [],
   "source": [
    "preds.select(\"is_fraud\").groupby(\"is_fraud\").count().toPandas()"
   ]
  },
  {
   "cell_type": "code",
   "execution_count": 0,
   "metadata": {
    "ExecuteTime": {
     "end_time": "2023-11-15T20:21:48.545759Z",
     "start_time": "2023-11-15T20:21:43.877420Z"
    },
    "application/vnd.databricks.v1+cell": {
     "cellMetadata": {},
     "inputWidgets": {},
     "nuid": "483fae6f-efaa-4914-860b-31d1db60935d",
     "showTitle": false,
     "title": ""
    }
   },
   "outputs": [],
   "source": [
    "preds.select(\"prediction\").groupby(\"prediction\").count().toPandas()"
   ]
  },
  {
   "cell_type": "markdown",
   "metadata": {
    "application/vnd.databricks.v1+cell": {
     "cellMetadata": {},
     "inputWidgets": {},
     "nuid": "b74111b8-28b8-432c-9013-c8a482d70d23",
     "showTitle": false,
     "title": ""
    }
   },
   "source": [
    "### Results Analysis\n",
    "\n",
    "Recognizing that I am working with logarithmic values for the target variable, I found this first iteration to yield low error rates and high accuracy an R Squared metric of .975"
   ]
  },
  {
   "cell_type": "markdown",
   "metadata": {
    "application/vnd.databricks.v1+cell": {
     "cellMetadata": {},
     "inputWidgets": {},
     "nuid": "eb17a5d9-117a-491f-b028-9933fa857e78",
     "showTitle": false,
     "title": ""
    }
   },
   "source": [
    "## ML Training and Prediction - XGBoost"
   ]
  },
  {
   "cell_type": "code",
   "execution_count": 0,
   "metadata": {
    "application/vnd.databricks.v1+cell": {
     "cellMetadata": {},
     "inputWidgets": {},
     "nuid": "de99c8ba-6ef8-4267-aecb-0cacac314933",
     "showTitle": false,
     "title": ""
    }
   },
   "outputs": [],
   "source": [
    "from pyspark.ml.tuning import ParamGridBuilder, CrossValidator\n",
    "from pyspark.ml.evaluation import RegressionEvaluator\n",
    "\n",
    "from pyspark.ml import Pipeline\n",
    "\n",
    "from xgboost.spark import SparkXGBRegressor\n",
    "\n",
    "xgbModel = SparkXGBRegressor(\n",
    "  features_col=\"features\",\n",
    "  label_col=\"price_log\",\n",
    "  num_workers=4,\n",
    ")\n",
    "\n",
    "paramGrid_xgb = (ParamGridBuilder()\n",
    "  .addGrid(xgbModel.max_depth, [3, 5, 7])\n",
    "  .addGrid(xgbModel.learning_rate, [0.1, 0.2])\n",
    "  .addGrid(xgbModel.n_estimators, [300, 400])\n",
    "  .build())\n",
    "\n",
    "stages_xgb = [xgbModel]\n",
    "\n",
    "pipeline_xgb = Pipeline().setStages(stages_xgb)\n",
    "\n",
    "cv_xgb = (CrossValidator() # you can feel free to change the number of folds used in cross validation as well\n",
    "  .setEstimator(pipeline_xgb) # the estimator can also just be an individual model rather than a pipeline\n",
    "  .setEstimatorParamMaps(paramGrid_xgb)\n",
    "  .setEvaluator(RegressionEvaluator().setLabelCol(\"price_log\")))\n",
    "\n",
    "pipelineFitted_xgb = cv_xgb.fit(training)"
   ]
  },
  {
   "cell_type": "code",
   "execution_count": 0,
   "metadata": {
    "application/vnd.databricks.v1+cell": {
     "cellMetadata": {},
     "inputWidgets": {},
     "nuid": "fd73b889-6817-4884-aa83-c6f0bdaaa0ea",
     "showTitle": false,
     "title": ""
    }
   },
   "outputs": [],
   "source": [
    "holdout_xgb = (pipelineFitted_xgb.bestModel\n",
    "  .transform(test))\n",
    "  \n",
    "holdout_xgb.toPandas()"
   ]
  },
  {
   "cell_type": "code",
   "execution_count": 0,
   "metadata": {
    "application/vnd.databricks.v1+cell": {
     "cellMetadata": {},
     "inputWidgets": {},
     "nuid": "ccae7351-9334-4303-87f7-639c489af436",
     "showTitle": false,
     "title": ""
    },
    "scrolled": true
   },
   "outputs": [],
   "source": [
    "from pyspark.mllib.evaluation import RegressionMetrics\n",
    "\n",
    "rm_xgb = RegressionMetrics(holdout_xgb.select(\"prediction\", \"price_log\").rdd.map(lambda x:  (x[0], x[1])))\n",
    "\n",
    "print(\"MSE: \", rm_xgb.meanSquaredError)\n",
    "print(\"MAE: \", rm_xgb.meanAbsoluteError)\n",
    "print(\"RMSE Squared: \", rm_xgb.rootMeanSquaredError)\n",
    "print(\"R Squared: \", rm_xgb.r2)\n",
    "print(\"Explained Variance: \", rm_xgb.explainedVariance, \"\\n\")"
   ]
  },
  {
   "cell_type": "markdown",
   "metadata": {
    "application/vnd.databricks.v1+cell": {
     "cellMetadata": {},
     "inputWidgets": {},
     "nuid": "1e85c266-b3b4-4308-aef7-596e7dda1403",
     "showTitle": false,
     "title": ""
    }
   },
   "source": [
    "### Results Analysis\n",
    "\n",
    "It was interesting to compare the Random Forest algorithm against XGBoost. With the grid parameters tested, XGBoost outperformed Random Forest in virtually all metrics, with an R Squared score of 0.992 compared to 0.975 for Random Forest."
   ]
  }
 ],
 "metadata": {
  "application/vnd.databricks.v1+notebook": {
   "dashboards": [],
   "language": "python",
   "notebookMetadata": {
    "pythonIndentUnit": 4
   },
   "notebookName": "cc_fraud_detection",
   "widgets": {}
  },
  "kernelspec": {
   "display_name": "Python 3 (ipykernel)",
   "language": "python",
   "name": "python3"
  },
  "language_info": {
   "codemirror_mode": {
    "name": "ipython",
    "version": 3
   },
   "file_extension": ".py",
   "mimetype": "text/x-python",
   "name": "python",
   "nbconvert_exporter": "python",
   "pygments_lexer": "ipython3",
   "version": "3.10.11"
  }
 },
 "nbformat": 4,
 "nbformat_minor": 0
}
