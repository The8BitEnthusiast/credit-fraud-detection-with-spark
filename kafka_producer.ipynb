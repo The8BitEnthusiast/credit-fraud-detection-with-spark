{
 "cells": [
  {
   "cell_type": "markdown",
   "metadata": {},
   "source": [
    "# Credit Card Transaction Generator using Kakfa"
   ]
  },
  {
   "cell_type": "markdown",
   "metadata": {},
   "source": [
    "The code that follows is derived from this tutorial:\n",
    "   https://www.markhneedham.com/blog/2019/05/16/kafka-basic-tutorial/\n",
    "\n",
    "The execution of this notebook requires a running Zookeeper instance and Kafka broker. On Mac OS, these can be installed with homebrew and launched with the following commands:\n",
    "\n",
    "```\n",
    "/usr/local/opt/kafka/bin/zookeeper-server-start /usr/local/etc/kafka/zookeeper.properties\n",
    "\n",
    "/usr/local/opt/kafka/bin/kafka-server-start /usr/local/etc/kafka/server.properties\n",
    "\n",
    "pyspark --packages org.apache.spark:spark-sql-kafka-0-10_2.12:3.5.0\n",
    "```\n",
    "\n",
    "note: the Kafka package can be added by adding the following line to pyspark config:\n",
    "\n",
    "```\n",
    "File: /usr/local/Cellar/apache-spark/3.5.0/libexec/conf/spark-defaults.conf\n",
    "...\n",
    "   spark.jars.packages               org.apache.spark:spark-sql-kafka-0-10_2.12:3.5.0\n",
    "...\n",
    "```"
   ]
  },
  {
   "cell_type": "code",
   "execution_count": null,
   "metadata": {},
   "outputs": [],
   "source": [
    "# only run this if the kafka-python is not pre-installed in your python environment\n",
    "# !pip install kafka-python"
   ]
  },
  {
   "cell_type": "code",
   "execution_count": null,
   "metadata": {},
   "outputs": [],
   "source": [
    "from kafka import KafkaConsumer, KafkaProducer\n",
    "import json\n",
    "import uuid\n",
    "\n",
    "\n",
    "def publish_message(producer_instance, topic_name, key, value):\n",
    "    try:\n",
    "        key_bytes = bytes(key, encoding='utf-8')\n",
    "        value_bytes = bytes(value, encoding='utf-8')\n",
    "        producer_instance.send(topic_name, key=key_bytes, value=value_bytes)\n",
    "        producer_instance.flush()\n",
    "        print('Message published successfully.')\n",
    "    except Exception as ex:\n",
    "        print('Exception in publishing message')\n",
    "        print(str(ex))\n",
    "\n",
    "\n",
    "def connect_kafka_producer(server):\n",
    "    _producer = None\n",
    "    try:\n",
    "        _producer = KafkaProducer(bootstrap_servers=[server], api_version=(0, 10))\n",
    "    except Exception as ex:\n",
    "        print('Exception while connecting Kafka')\n",
    "        print(str(ex))\n",
    "    finally:\n",
    "        return _producer"
   ]
  },
  {
   "cell_type": "code",
   "execution_count": null,
   "metadata": {},
   "outputs": [],
   "source": [
    "server = 'localhost:9092'\n",
    "topic_name = \"cc_fraud_topic\""
   ]
  },
  {
   "cell_type": "code",
   "execution_count": null,
   "metadata": {},
   "outputs": [],
   "source": [
    "kafka_producer = connect_kafka_producer(server)"
   ]
  },
  {
   "cell_type": "code",
   "execution_count": null,
   "metadata": {},
   "outputs": [],
   "source": [
    "message = \"104872,2019-03-02T07:58:56.000-05:00,4430881574719618,fraud_Huel-Langworth,misc_net,1.12,Alicia,Morales,F,4456 Dunn Roads,Meredith,CO,81642,39.3199,-106.6596,61.0,Public relations account executive,1939-11-04,610a5f5782076b7a952824d1d949255d,1330675136,39.635246,-107.054549,0\"\n",
    "publish_message(kafka_producer, topic_name, str(uuid.uuid4()), message)"
   ]
  },
  {
   "cell_type": "code",
   "execution_count": null,
   "metadata": {},
   "outputs": [],
   "source": [
    "message = '94460,2019-02-25T12:44:11.000-05:00,4810839835482794272,\"fraud_Weber, Thiel and Hammes\",kids_pets,14.83,Carolyn,Perez,F,433 Blake Roads Suite 967,Wheaton,MO,64874,36.7651,-94.0492,760.0,Production manager,1985-08-31,b53b115efdbfe79956452a295f1a8a57,1330173851,36.487874,-94.355554,0'\n",
    "publish_message(kafka_producer, topic_name, str(uuid.uuid4()), message)"
   ]
  },
  {
   "cell_type": "code",
   "execution_count": null,
   "metadata": {},
   "outputs": [],
   "source": [
    "consumer = KafkaConsumer(topic_name, \n",
    "                         auto_offset_reset='earliest',\n",
    "                         bootstrap_servers=[server], \n",
    "                         api_version=(0, 10), \n",
    "                         value_deserializer = json.loads,\n",
    "                         consumer_timeout_ms=1000)\n",
    "for msg in consumer:\n",
    "    print(msg.key.decode(\"utf-8\"), msg.value)"
   ]
  },
  {
   "cell_type": "code",
   "execution_count": null,
   "metadata": {},
   "outputs": [],
   "source": []
  }
 ],
 "metadata": {
  "kernelspec": {
   "display_name": "Python 3 (ipykernel)",
   "language": "python",
   "name": "python3"
  },
  "language_info": {
   "codemirror_mode": {
    "name": "ipython",
    "version": 3
   },
   "file_extension": ".py",
   "mimetype": "text/x-python",
   "name": "python",
   "nbconvert_exporter": "python",
   "pygments_lexer": "ipython3",
   "version": "3.10.11"
  }
 },
 "nbformat": 4,
 "nbformat_minor": 2
}
